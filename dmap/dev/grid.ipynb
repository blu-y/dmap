{
 "cells": [
  {
   "cell_type": "code",
   "execution_count": 1,
   "metadata": {},
   "outputs": [
    {
     "name": "stdout",
     "output_type": "stream",
     "text": [
      "/home/jetson/cmap/athirdmapper\n"
     ]
    }
   ],
   "source": [
    "import os\n",
    "notebook_dir = os.path.dirname(os.path.abspath('__file__'))\n",
    "print(notebook_dir)\n",
    "os.chdir(notebook_dir)"
   ]
  },
  {
   "cell_type": "code",
   "execution_count": 6,
   "metadata": {},
   "outputs": [
    {
     "name": "stdout",
     "output_type": "stream",
     "text": [
      "['boxes', 'fire extinguisher', 'luggage', 'a single traffic cone', 'pile of traffic cones', 'trash bin', 'umbrella', 'trolley', 'chair', 'folded chair']\n"
     ]
    }
   ],
   "source": [
    "from utils import CLIP\n",
    "import os\n",
    "import pickle\n",
    "os.chdir('../')\n",
    "clip = CLIP('ViT-L-14-quickgelu')\n",
    "text_features = {}\n",
    "text_list = ['boxes', 'fire extinguisher', 'luggage', 'a single traffic cone', 'pile of traffic cones', 'trash bin', 'umbrella', 'trolley', 'chair', 'folded chair']\n",
    "text_features['list'] = text_list\n",
    "for text in text_list:\n",
    "    text_features[text] = clip.encode_text([text])\n",
    "os.chdir('./athirdmapper')\n",
    "with open('text_features.pkl', 'wb') as f:\n",
    "    pickle.dump(text_features, f)\n",
    "print(text_list)"
   ]
  },
  {
   "cell_type": "code",
   "execution_count": 1,
   "metadata": {},
   "outputs": [
    {
     "name": "stdout",
     "output_type": "stream",
     "text": [
      "['umbrella', 'fire extinguisher', 'a single traffic cone', 'luggage', 'rc car', 'pile of traffic cone']\n"
     ]
    }
   ],
   "source": [
    "import os\n",
    "import pickle\n",
    "import numpy as np\n",
    "import torch\n",
    "import torch.nn.functional as F\n",
    "import matplotlib.pyplot as plt\n",
    "import cv2\n",
    "def similarity(image_features, text_features):\n",
    "    if torch.cuda.is_available(): \n",
    "        return image_features @ text_features.cpu().numpy().T\n",
    "    return image_features @ text_features.numpy().T\n",
    "def show_candidates(ind):\n",
    "    for i, img_ind in enumerate(ind):\n",
    "        r = len(ind)//9+1\n",
    "        plt.figure('candidates', figsize=(12, r*2))\n",
    "        plt.subplot(r, 9, i+1)\n",
    "        img = cv2.imread('n_images/' + str(img_ind) + '.png')\n",
    "        plt.imshow(cv2.cvtColor(img, cv2.COLOR_BGR2RGB))\n",
    "        plt.axis('off')\n",
    "        plt.tight_layout()\n",
    "with open('features.pkl', 'rb') as file:\n",
    "    features = pickle.load(file)\n",
    "with open('features_ind.pkl', 'rb') as file:\n",
    "    features_ind = pickle.load(file)\n",
    "with open('text_features.pkl', 'rb') as file:\n",
    "    text_features = pickle.load(file)\n",
    "print(text_features['list'])"
   ]
  },
  {
   "cell_type": "code",
   "execution_count": 9,
   "metadata": {},
   "outputs": [
    {
     "name": "stdout",
     "output_type": "stream",
     "text": [
      "0.04180763447116345 1.0038126478700598e-08 33\n"
     ]
    }
   ],
   "source": [
    "text_feature = text_features['umbrella']\n",
    "similarities = similarity(features, text_feature).squeeze()*100\n",
    "# get softmax\n",
    "similarities_s = F.softmax(torch.tensor(similarities), dim=0).numpy()\n",
    "similarities_s\n",
    "M_s = np.max(similarities_s)\n",
    "m_s = np.min(similarities_s)\n",
    "nsim = np.zeros_like(similarities_s)\n",
    "nsim[similarities_s > 0.01] = 1\n",
    "m = int(np.sum(nsim))\n",
    "# nsim[similarities_s < 0.01] = 0\n",
    "# n = int(np.sum(nsim))\n",
    "print(M_s, m_s, m)\n",
    "\n",
    "sim_sort_ind = np.argsort(similarities, axis=0)[::-1]\n",
    "sim_sort_ind = sim_sort_ind[:m]\n",
    "show_candidates(sim_sort_ind)"
   ]
  },
  {
   "cell_type": "code",
   "execution_count": 11,
   "metadata": {},
   "outputs": [
    {
     "name": "stdout",
     "output_type": "stream",
     "text": [
      "[(-5.25, -1.0, 0.0), (-5.25, -1.25, 0.0), (-5.0, -1.25, 0.0), (-5.0, -1.5, 0.0), (-4.75, -1.5, 0.0), (-5.0, -1.0, 0.0), (-5.5, -0.25, 0.0), (-5.5, -0.5, 0.0), (-5.25, -0.25, 0.0), (-4.5, -0.25, 0.0), (-5.0, -0.25, 0.0), (-5.25, -0.5, 0.0), (-4.75, -0.25, 0.0), (-4.25, -0.25, 0.0), (-4.75, -0.5, 0.0), (-4.25, -0.5, 0.0), (-5.5, 0.0, 0.0), (-5.5, -0.75, 0.0), (-5.25, -0.75, 0.0), (-5.0, -0.5, 0.0), (-4.75, -1.25, 0.0), (-4.5, -0.5, 0.0), (-5.5, 0.25, 0.0)]\n",
      "[[11.755626587643064, 2], [11.5785278127305, 4], [11.339637713495614, 11], [11.326023906121918, 3], [11.25862031210545, 2], [11.222557687632388, 5], [11.217042897223592, 10], [11.155957641365077, 12], [11.149654017040689, 4], [11.085183770977892, 25], [11.08345574942853, 22], [11.081106124359241, 16], [11.074479674328002, 26], [11.05037466146257, 3], [10.981079755006817, 2], [10.96030921084008, 1], [10.910562755605326, 5], [10.90654840227406, 3], [10.905029436388247, 4], [10.858411146903839, 7], [10.828163860639961, 1], [10.801303320529456, 10], [10.390706599208954, 1]]\n",
      "[(-4.75, -0.25, 0.0), (-4.5, -0.25, 0.0), (-5.0, -0.25, 0.0), (-5.25, -0.5, 0.0), (-5.5, -0.5, 0.0), (-5.0, -1.25, 0.0), (-5.5, -0.25, 0.0), (-4.5, -0.5, 0.0), (-5.0, -0.5, 0.0), (-5.0, -1.0, 0.0), (-5.5, 0.0, 0.0), (-5.25, -1.25, 0.0), (-5.25, -0.25, 0.0), (-5.25, -0.75, 0.0), (-5.0, -1.5, 0.0), (-4.25, -0.25, 0.0), (-5.5, -0.75, 0.0), (-5.25, -1.0, 0.0), (-4.75, -1.5, 0.0), (-4.75, -0.5, 0.0), (-4.25, -0.5, 0.0), (-4.75, -1.25, 0.0), (-5.5, 0.25, 0.0)]\n",
      "[[11.074479674328002, 26], [11.085183770977892, 25], [11.08345574942853, 22], [11.081106124359241, 16], [11.155957641365077, 12], [11.339637713495614, 11], [11.217042897223592, 10], [10.801303320529456, 10], [10.858411146903839, 7], [11.222557687632388, 5], [10.910562755605326, 5], [11.5785278127305, 4], [11.149654017040689, 4], [10.905029436388247, 4], [11.326023906121918, 3], [11.05037466146257, 3], [10.90654840227406, 3], [11.755626587643064, 2], [11.25862031210545, 2], [10.981079755006817, 2], [10.96030921084008, 1], [10.828163860639961, 1], [10.390706599208954, 1]]\n"
     ]
    }
   ],
   "source": [
    "# print(sim_sort_ind)\n",
    "# print(similarities_s[sim_sort_ind])\n",
    "# get unique points\n",
    "conf = {}\n",
    "for index in sim_sort_ind:\n",
    "    # print(len(features_ind[index]), features_ind[index])\n",
    "    similarities_s = similarities[index]\n",
    "    n_point = len(features_ind[index])\n",
    "    for point in features_ind[index]:\n",
    "        [s, n] = conf.get(tuple(point), [0,0])\n",
    "        conf[tuple(point)] = [(s * n + similarities_s) / (n + 1), n + 1]\n",
    "# sort confidence by value\n",
    "conf_score = dict(sorted(conf.items(), key=lambda item: item[1], reverse=True))\n",
    "conf_freq = dict(sorted(conf.items(), key=lambda item: item[1][1], reverse=True))\n",
    "\n",
    "k = list(conf_score.keys())\n",
    "v = list(conf_score.values())\n",
    "print(k)\n",
    "print(v)\n",
    "\n",
    "K = list(conf_freq.keys())\n",
    "V = list(conf_freq.values())\n",
    "print(K)\n",
    "print(V)"
   ]
  },
  {
   "cell_type": "code",
   "execution_count": null,
   "metadata": {},
   "outputs": [],
   "source": []
  }
 ],
 "metadata": {
  "kernelspec": {
   "display_name": "Python 3",
   "language": "python",
   "name": "python3"
  },
  "language_info": {
   "codemirror_mode": {
    "name": "ipython",
    "version": 3
   },
   "file_extension": ".py",
   "mimetype": "text/x-python",
   "name": "python",
   "nbconvert_exporter": "python",
   "pygments_lexer": "ipython3",
   "version": "3.10.12"
  }
 },
 "nbformat": 4,
 "nbformat_minor": 2
}
